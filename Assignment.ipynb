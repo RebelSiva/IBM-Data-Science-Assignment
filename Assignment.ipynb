{
 "cells": [
  {
   "cell_type": "markdown",
   "metadata": {},
   "source": [
    "# Battle of the Neighbourhoods - Toronto\n",
    "\n",
    "Author: Thomas George Thomas\n",
    "\n",
    "This notebook contains Questions 1, 2 & 3 of the Assignment. They have been segregated by Section headers"
   ]
  },
  {
   "cell_type": "code",
   "execution_count": 1,
   "metadata": {},
   "outputs": [],
   "source": [
    "import pandas as pd"
   ]
  },
  {
   "cell_type": "markdown",
   "metadata": {},
   "source": [
    "## Import the requried Packages\n",
    "\n",
    "## Question 1"
   ]
  },
  {
   "cell_type": "code",
   "execution_count": 2,
   "metadata": {},
   "outputs": [],
   "source": [
    "import requests"
   ]
  },
  {
   "cell_type": "code",
   "execution_count": 3,
   "metadata": {},
   "outputs": [
    {
     "data": {
      "text/plain": [
       "<Response [200]>"
      ]
     },
     "execution_count": 3,
     "metadata": {},
     "output_type": "execute_result"
    }
   ],
   "source": [
    "url = \"https://en.wikipedia.org/wiki/List_of_postal_codes_of_Canada:_M\"\n",
    "wiki_url = requests.get(url)\n",
    "wiki_url"
   ]
  },
  {
   "cell_type": "code",
   "execution_count": 4,
   "metadata": {},
   "outputs": [
    {
     "data": {
      "text/plain": [
       "[    Postal Code           Borough  \\\n",
       " 0           M1A      Not assigned   \n",
       " 1           M2A      Not assigned   \n",
       " 2           M3A        North York   \n",
       " 3           M4A        North York   \n",
       " 4           M5A  Downtown Toronto   \n",
       " ..          ...               ...   \n",
       " 175         M5Z      Not assigned   \n",
       " 176         M6Z      Not assigned   \n",
       " 177         M7Z      Not assigned   \n",
       " 178         M8Z         Etobicoke   \n",
       " 179         M9Z      Not assigned   \n",
       " \n",
       "                                          Neighbourhood  \n",
       " 0                                         Not assigned  \n",
       " 1                                         Not assigned  \n",
       " 2                                            Parkwoods  \n",
       " 3                                     Victoria Village  \n",
       " 4                            Regent Park, Harbourfront  \n",
       " ..                                                 ...  \n",
       " 175                                       Not assigned  \n",
       " 176                                       Not assigned  \n",
       " 177                                       Not assigned  \n",
       " 178  Mimico NW, The Queensway West, South of Bloor,...  \n",
       " 179                                       Not assigned  \n",
       " \n",
       " [180 rows x 3 columns],\n",
       "                                                   0   \\\n",
       " 0                                                NaN   \n",
       " 1  NL NS PE NB QC ON MB SK AB BC NU/NT YT A B C E...   \n",
       " 2                                                 NL   \n",
       " 3                                                  A   \n",
       " \n",
       "                                                   1   \\\n",
       " 0                              Canadian postal codes   \n",
       " 1  NL NS PE NB QC ON MB SK AB BC NU/NT YT A B C E...   \n",
       " 2                                                 NS   \n",
       " 3                                                  B   \n",
       " \n",
       "                                                   2    3    4    5    6    7   \\\n",
       " 0                                                NaN  NaN  NaN  NaN  NaN  NaN   \n",
       " 1  NL NS PE NB QC ON MB SK AB BC NU/NT YT A B C E...  NaN  NaN  NaN  NaN  NaN   \n",
       " 2                                                 PE   NB   QC   QC   QC   ON   \n",
       " 3                                                  C    E    G    H    J    K   \n",
       " \n",
       "     8    9    10   11   12   13   14   15     16   17  \n",
       " 0  NaN  NaN  NaN  NaN  NaN  NaN  NaN  NaN    NaN  NaN  \n",
       " 1  NaN  NaN  NaN  NaN  NaN  NaN  NaN  NaN    NaN  NaN  \n",
       " 2   ON   ON   ON   ON   MB   SK   AB   BC  NU/NT   YT  \n",
       " 3    L    M    N    P    R    S    T    V      X    Y  ,\n",
       "    0   1   2   3   4   5   6   7   8   9   10  11  12  13  14  15     16  17\n",
       " 0  NL  NS  PE  NB  QC  QC  QC  ON  ON  ON  ON  ON  MB  SK  AB  BC  NU/NT  YT\n",
       " 1   A   B   C   E   G   H   J   K   L   M   N   P   R   S   T   V      X   Y]"
      ]
     },
     "execution_count": 4,
     "metadata": {},
     "output_type": "execute_result"
    }
   ],
   "source": [
    "wiki_data = pd.read_html(wiki_url.text)\n",
    "wiki_data"
   ]
  },
  {
   "cell_type": "code",
   "execution_count": 5,
   "metadata": {},
   "outputs": [
    {
     "data": {
      "text/plain": [
       "(3, list)"
      ]
     },
     "execution_count": 5,
     "metadata": {},
     "output_type": "execute_result"
    }
   ],
   "source": [
    "len(wiki_data), type(wiki_data)"
   ]
  },
  {
   "cell_type": "code",
   "execution_count": 6,
   "metadata": {},
   "outputs": [
    {
     "data": {
      "text/html": [
       "<div>\n",
       "<style scoped>\n",
       "    .dataframe tbody tr th:only-of-type {\n",
       "        vertical-align: middle;\n",
       "    }\n",
       "\n",
       "    .dataframe tbody tr th {\n",
       "        vertical-align: top;\n",
       "    }\n",
       "\n",
       "    .dataframe thead th {\n",
       "        text-align: right;\n",
       "    }\n",
       "</style>\n",
       "<table border=\"1\" class=\"dataframe\">\n",
       "  <thead>\n",
       "    <tr style=\"text-align: right;\">\n",
       "      <th></th>\n",
       "      <th>Postal Code</th>\n",
       "      <th>Borough</th>\n",
       "      <th>Neighbourhood</th>\n",
       "    </tr>\n",
       "  </thead>\n",
       "  <tbody>\n",
       "    <tr>\n",
       "      <th>0</th>\n",
       "      <td>M1A</td>\n",
       "      <td>Not assigned</td>\n",
       "      <td>Not assigned</td>\n",
       "    </tr>\n",
       "    <tr>\n",
       "      <th>1</th>\n",
       "      <td>M2A</td>\n",
       "      <td>Not assigned</td>\n",
       "      <td>Not assigned</td>\n",
       "    </tr>\n",
       "    <tr>\n",
       "      <th>2</th>\n",
       "      <td>M3A</td>\n",
       "      <td>North York</td>\n",
       "      <td>Parkwoods</td>\n",
       "    </tr>\n",
       "    <tr>\n",
       "      <th>3</th>\n",
       "      <td>M4A</td>\n",
       "      <td>North York</td>\n",
       "      <td>Victoria Village</td>\n",
       "    </tr>\n",
       "    <tr>\n",
       "      <th>4</th>\n",
       "      <td>M5A</td>\n",
       "      <td>Downtown Toronto</td>\n",
       "      <td>Regent Park, Harbourfront</td>\n",
       "    </tr>\n",
       "    <tr>\n",
       "      <th>...</th>\n",
       "      <td>...</td>\n",
       "      <td>...</td>\n",
       "      <td>...</td>\n",
       "    </tr>\n",
       "    <tr>\n",
       "      <th>175</th>\n",
       "      <td>M5Z</td>\n",
       "      <td>Not assigned</td>\n",
       "      <td>Not assigned</td>\n",
       "    </tr>\n",
       "    <tr>\n",
       "      <th>176</th>\n",
       "      <td>M6Z</td>\n",
       "      <td>Not assigned</td>\n",
       "      <td>Not assigned</td>\n",
       "    </tr>\n",
       "    <tr>\n",
       "      <th>177</th>\n",
       "      <td>M7Z</td>\n",
       "      <td>Not assigned</td>\n",
       "      <td>Not assigned</td>\n",
       "    </tr>\n",
       "    <tr>\n",
       "      <th>178</th>\n",
       "      <td>M8Z</td>\n",
       "      <td>Etobicoke</td>\n",
       "      <td>Mimico NW, The Queensway West, South of Bloor,...</td>\n",
       "    </tr>\n",
       "    <tr>\n",
       "      <th>179</th>\n",
       "      <td>M9Z</td>\n",
       "      <td>Not assigned</td>\n",
       "      <td>Not assigned</td>\n",
       "    </tr>\n",
       "  </tbody>\n",
       "</table>\n",
       "<p>180 rows × 3 columns</p>\n",
       "</div>"
      ],
      "text/plain": [
       "    Postal Code           Borough  \\\n",
       "0           M1A      Not assigned   \n",
       "1           M2A      Not assigned   \n",
       "2           M3A        North York   \n",
       "3           M4A        North York   \n",
       "4           M5A  Downtown Toronto   \n",
       "..          ...               ...   \n",
       "175         M5Z      Not assigned   \n",
       "176         M6Z      Not assigned   \n",
       "177         M7Z      Not assigned   \n",
       "178         M8Z         Etobicoke   \n",
       "179         M9Z      Not assigned   \n",
       "\n",
       "                                         Neighbourhood  \n",
       "0                                         Not assigned  \n",
       "1                                         Not assigned  \n",
       "2                                            Parkwoods  \n",
       "3                                     Victoria Village  \n",
       "4                            Regent Park, Harbourfront  \n",
       "..                                                 ...  \n",
       "175                                       Not assigned  \n",
       "176                                       Not assigned  \n",
       "177                                       Not assigned  \n",
       "178  Mimico NW, The Queensway West, South of Bloor,...  \n",
       "179                                       Not assigned  \n",
       "\n",
       "[180 rows x 3 columns]"
      ]
     },
     "execution_count": 6,
     "metadata": {},
     "output_type": "execute_result"
    }
   ],
   "source": [
    "wiki_data = wiki_data[0]\n",
    "wiki_data"
   ]
  },
  {
   "cell_type": "code",
   "execution_count": 7,
   "metadata": {},
   "outputs": [
    {
     "data": {
      "text/html": [
       "<div>\n",
       "<style scoped>\n",
       "    .dataframe tbody tr th:only-of-type {\n",
       "        vertical-align: middle;\n",
       "    }\n",
       "\n",
       "    .dataframe tbody tr th {\n",
       "        vertical-align: top;\n",
       "    }\n",
       "\n",
       "    .dataframe thead th {\n",
       "        text-align: right;\n",
       "    }\n",
       "</style>\n",
       "<table border=\"1\" class=\"dataframe\">\n",
       "  <thead>\n",
       "    <tr style=\"text-align: right;\">\n",
       "      <th></th>\n",
       "      <th>Postal Code</th>\n",
       "      <th>Borough</th>\n",
       "      <th>Neighbourhood</th>\n",
       "    </tr>\n",
       "  </thead>\n",
       "  <tbody>\n",
       "    <tr>\n",
       "      <th>2</th>\n",
       "      <td>M3A</td>\n",
       "      <td>North York</td>\n",
       "      <td>Parkwoods</td>\n",
       "    </tr>\n",
       "    <tr>\n",
       "      <th>3</th>\n",
       "      <td>M4A</td>\n",
       "      <td>North York</td>\n",
       "      <td>Victoria Village</td>\n",
       "    </tr>\n",
       "    <tr>\n",
       "      <th>4</th>\n",
       "      <td>M5A</td>\n",
       "      <td>Downtown Toronto</td>\n",
       "      <td>Regent Park, Harbourfront</td>\n",
       "    </tr>\n",
       "    <tr>\n",
       "      <th>5</th>\n",
       "      <td>M6A</td>\n",
       "      <td>North York</td>\n",
       "      <td>Lawrence Manor, Lawrence Heights</td>\n",
       "    </tr>\n",
       "    <tr>\n",
       "      <th>6</th>\n",
       "      <td>M7A</td>\n",
       "      <td>Downtown Toronto</td>\n",
       "      <td>Queen's Park, Ontario Provincial Government</td>\n",
       "    </tr>\n",
       "    <tr>\n",
       "      <th>...</th>\n",
       "      <td>...</td>\n",
       "      <td>...</td>\n",
       "      <td>...</td>\n",
       "    </tr>\n",
       "    <tr>\n",
       "      <th>160</th>\n",
       "      <td>M8X</td>\n",
       "      <td>Etobicoke</td>\n",
       "      <td>The Kingsway, Montgomery Road, Old Mill North</td>\n",
       "    </tr>\n",
       "    <tr>\n",
       "      <th>165</th>\n",
       "      <td>M4Y</td>\n",
       "      <td>Downtown Toronto</td>\n",
       "      <td>Church and Wellesley</td>\n",
       "    </tr>\n",
       "    <tr>\n",
       "      <th>168</th>\n",
       "      <td>M7Y</td>\n",
       "      <td>East Toronto</td>\n",
       "      <td>Business reply mail Processing Centre, South C...</td>\n",
       "    </tr>\n",
       "    <tr>\n",
       "      <th>169</th>\n",
       "      <td>M8Y</td>\n",
       "      <td>Etobicoke</td>\n",
       "      <td>Old Mill South, King's Mill Park, Sunnylea, Hu...</td>\n",
       "    </tr>\n",
       "    <tr>\n",
       "      <th>178</th>\n",
       "      <td>M8Z</td>\n",
       "      <td>Etobicoke</td>\n",
       "      <td>Mimico NW, The Queensway West, South of Bloor,...</td>\n",
       "    </tr>\n",
       "  </tbody>\n",
       "</table>\n",
       "<p>103 rows × 3 columns</p>\n",
       "</div>"
      ],
      "text/plain": [
       "    Postal Code           Borough  \\\n",
       "2           M3A        North York   \n",
       "3           M4A        North York   \n",
       "4           M5A  Downtown Toronto   \n",
       "5           M6A        North York   \n",
       "6           M7A  Downtown Toronto   \n",
       "..          ...               ...   \n",
       "160         M8X         Etobicoke   \n",
       "165         M4Y  Downtown Toronto   \n",
       "168         M7Y      East Toronto   \n",
       "169         M8Y         Etobicoke   \n",
       "178         M8Z         Etobicoke   \n",
       "\n",
       "                                         Neighbourhood  \n",
       "2                                            Parkwoods  \n",
       "3                                     Victoria Village  \n",
       "4                            Regent Park, Harbourfront  \n",
       "5                     Lawrence Manor, Lawrence Heights  \n",
       "6          Queen's Park, Ontario Provincial Government  \n",
       "..                                                 ...  \n",
       "160      The Kingsway, Montgomery Road, Old Mill North  \n",
       "165                               Church and Wellesley  \n",
       "168  Business reply mail Processing Centre, South C...  \n",
       "169  Old Mill South, King's Mill Park, Sunnylea, Hu...  \n",
       "178  Mimico NW, The Queensway West, South of Bloor,...  \n",
       "\n",
       "[103 rows x 3 columns]"
      ]
     },
     "execution_count": 7,
     "metadata": {},
     "output_type": "execute_result"
    }
   ],
   "source": [
    "df = wiki_data[wiki_data[\"Borough\"] != \"Not assigned\"]\n",
    "df"
   ]
  },
  {
   "cell_type": "code",
   "execution_count": 8,
   "metadata": {},
   "outputs": [
    {
     "data": {
      "text/html": [
       "<div>\n",
       "<style scoped>\n",
       "    .dataframe tbody tr th:only-of-type {\n",
       "        vertical-align: middle;\n",
       "    }\n",
       "\n",
       "    .dataframe tbody tr th {\n",
       "        vertical-align: top;\n",
       "    }\n",
       "\n",
       "    .dataframe thead th {\n",
       "        text-align: right;\n",
       "    }\n",
       "</style>\n",
       "<table border=\"1\" class=\"dataframe\">\n",
       "  <thead>\n",
       "    <tr style=\"text-align: right;\">\n",
       "      <th></th>\n",
       "      <th>Postal Code</th>\n",
       "      <th>Borough</th>\n",
       "      <th>Neighbourhood</th>\n",
       "    </tr>\n",
       "  </thead>\n",
       "  <tbody>\n",
       "    <tr>\n",
       "      <th>2</th>\n",
       "      <td>M3A</td>\n",
       "      <td>North York</td>\n",
       "      <td>Parkwoods</td>\n",
       "    </tr>\n",
       "    <tr>\n",
       "      <th>3</th>\n",
       "      <td>M4A</td>\n",
       "      <td>North York</td>\n",
       "      <td>Victoria Village</td>\n",
       "    </tr>\n",
       "    <tr>\n",
       "      <th>4</th>\n",
       "      <td>M5A</td>\n",
       "      <td>Downtown Toronto</td>\n",
       "      <td>Regent Park, Harbourfront</td>\n",
       "    </tr>\n",
       "    <tr>\n",
       "      <th>5</th>\n",
       "      <td>M6A</td>\n",
       "      <td>North York</td>\n",
       "      <td>Lawrence Manor, Lawrence Heights</td>\n",
       "    </tr>\n",
       "    <tr>\n",
       "      <th>6</th>\n",
       "      <td>M7A</td>\n",
       "      <td>Downtown Toronto</td>\n",
       "      <td>Queen's Park, Ontario Provincial Government</td>\n",
       "    </tr>\n",
       "    <tr>\n",
       "      <th>...</th>\n",
       "      <td>...</td>\n",
       "      <td>...</td>\n",
       "      <td>...</td>\n",
       "    </tr>\n",
       "    <tr>\n",
       "      <th>160</th>\n",
       "      <td>M8X</td>\n",
       "      <td>Etobicoke</td>\n",
       "      <td>The Kingsway, Montgomery Road, Old Mill North</td>\n",
       "    </tr>\n",
       "    <tr>\n",
       "      <th>165</th>\n",
       "      <td>M4Y</td>\n",
       "      <td>Downtown Toronto</td>\n",
       "      <td>Church and Wellesley</td>\n",
       "    </tr>\n",
       "    <tr>\n",
       "      <th>168</th>\n",
       "      <td>M7Y</td>\n",
       "      <td>East Toronto</td>\n",
       "      <td>Business reply mail Processing Centre, South C...</td>\n",
       "    </tr>\n",
       "    <tr>\n",
       "      <th>169</th>\n",
       "      <td>M8Y</td>\n",
       "      <td>Etobicoke</td>\n",
       "      <td>Old Mill South, King's Mill Park, Sunnylea, Hu...</td>\n",
       "    </tr>\n",
       "    <tr>\n",
       "      <th>178</th>\n",
       "      <td>M8Z</td>\n",
       "      <td>Etobicoke</td>\n",
       "      <td>Mimico NW, The Queensway West, South of Bloor,...</td>\n",
       "    </tr>\n",
       "  </tbody>\n",
       "</table>\n",
       "<p>103 rows × 3 columns</p>\n",
       "</div>"
      ],
      "text/plain": [
       "    Postal Code           Borough  \\\n",
       "2           M3A        North York   \n",
       "3           M4A        North York   \n",
       "4           M5A  Downtown Toronto   \n",
       "5           M6A        North York   \n",
       "6           M7A  Downtown Toronto   \n",
       "..          ...               ...   \n",
       "160         M8X         Etobicoke   \n",
       "165         M4Y  Downtown Toronto   \n",
       "168         M7Y      East Toronto   \n",
       "169         M8Y         Etobicoke   \n",
       "178         M8Z         Etobicoke   \n",
       "\n",
       "                                         Neighbourhood  \n",
       "2                                            Parkwoods  \n",
       "3                                     Victoria Village  \n",
       "4                            Regent Park, Harbourfront  \n",
       "5                     Lawrence Manor, Lawrence Heights  \n",
       "6          Queen's Park, Ontario Provincial Government  \n",
       "..                                                 ...  \n",
       "160      The Kingsway, Montgomery Road, Old Mill North  \n",
       "165                               Church and Wellesley  \n",
       "168  Business reply mail Processing Centre, South C...  \n",
       "169  Old Mill South, King's Mill Park, Sunnylea, Hu...  \n",
       "178  Mimico NW, The Queensway West, South of Bloor,...  \n",
       "\n",
       "[103 rows x 3 columns]"
      ]
     },
     "execution_count": 8,
     "metadata": {},
     "output_type": "execute_result"
    }
   ],
   "source": [
    "df = df.groupby(['Postal Code']).head()\n",
    "df"
   ]
  },
  {
   "cell_type": "code",
   "execution_count": 9,
   "metadata": {},
   "outputs": [
    {
     "data": {
      "text/plain": [
       "0"
      ]
     },
     "execution_count": 9,
     "metadata": {},
     "output_type": "execute_result"
    }
   ],
   "source": [
    "df.Neighbourhood.str.count(\"Not assigned\").sum()"
   ]
  },
  {
   "cell_type": "code",
   "execution_count": 10,
   "metadata": {},
   "outputs": [
    {
     "data": {
      "text/html": [
       "<div>\n",
       "<style scoped>\n",
       "    .dataframe tbody tr th:only-of-type {\n",
       "        vertical-align: middle;\n",
       "    }\n",
       "\n",
       "    .dataframe tbody tr th {\n",
       "        vertical-align: top;\n",
       "    }\n",
       "\n",
       "    .dataframe thead th {\n",
       "        text-align: right;\n",
       "    }\n",
       "</style>\n",
       "<table border=\"1\" class=\"dataframe\">\n",
       "  <thead>\n",
       "    <tr style=\"text-align: right;\">\n",
       "      <th></th>\n",
       "      <th>index</th>\n",
       "      <th>Postal Code</th>\n",
       "      <th>Borough</th>\n",
       "      <th>Neighbourhood</th>\n",
       "    </tr>\n",
       "  </thead>\n",
       "  <tbody>\n",
       "    <tr>\n",
       "      <th>0</th>\n",
       "      <td>2</td>\n",
       "      <td>M3A</td>\n",
       "      <td>North York</td>\n",
       "      <td>Parkwoods</td>\n",
       "    </tr>\n",
       "    <tr>\n",
       "      <th>1</th>\n",
       "      <td>3</td>\n",
       "      <td>M4A</td>\n",
       "      <td>North York</td>\n",
       "      <td>Victoria Village</td>\n",
       "    </tr>\n",
       "    <tr>\n",
       "      <th>2</th>\n",
       "      <td>4</td>\n",
       "      <td>M5A</td>\n",
       "      <td>Downtown Toronto</td>\n",
       "      <td>Regent Park, Harbourfront</td>\n",
       "    </tr>\n",
       "    <tr>\n",
       "      <th>3</th>\n",
       "      <td>5</td>\n",
       "      <td>M6A</td>\n",
       "      <td>North York</td>\n",
       "      <td>Lawrence Manor, Lawrence Heights</td>\n",
       "    </tr>\n",
       "    <tr>\n",
       "      <th>4</th>\n",
       "      <td>6</td>\n",
       "      <td>M7A</td>\n",
       "      <td>Downtown Toronto</td>\n",
       "      <td>Queen's Park, Ontario Provincial Government</td>\n",
       "    </tr>\n",
       "    <tr>\n",
       "      <th>...</th>\n",
       "      <td>...</td>\n",
       "      <td>...</td>\n",
       "      <td>...</td>\n",
       "      <td>...</td>\n",
       "    </tr>\n",
       "    <tr>\n",
       "      <th>98</th>\n",
       "      <td>160</td>\n",
       "      <td>M8X</td>\n",
       "      <td>Etobicoke</td>\n",
       "      <td>The Kingsway, Montgomery Road, Old Mill North</td>\n",
       "    </tr>\n",
       "    <tr>\n",
       "      <th>99</th>\n",
       "      <td>165</td>\n",
       "      <td>M4Y</td>\n",
       "      <td>Downtown Toronto</td>\n",
       "      <td>Church and Wellesley</td>\n",
       "    </tr>\n",
       "    <tr>\n",
       "      <th>100</th>\n",
       "      <td>168</td>\n",
       "      <td>M7Y</td>\n",
       "      <td>East Toronto</td>\n",
       "      <td>Business reply mail Processing Centre, South C...</td>\n",
       "    </tr>\n",
       "    <tr>\n",
       "      <th>101</th>\n",
       "      <td>169</td>\n",
       "      <td>M8Y</td>\n",
       "      <td>Etobicoke</td>\n",
       "      <td>Old Mill South, King's Mill Park, Sunnylea, Hu...</td>\n",
       "    </tr>\n",
       "    <tr>\n",
       "      <th>102</th>\n",
       "      <td>178</td>\n",
       "      <td>M8Z</td>\n",
       "      <td>Etobicoke</td>\n",
       "      <td>Mimico NW, The Queensway West, South of Bloor,...</td>\n",
       "    </tr>\n",
       "  </tbody>\n",
       "</table>\n",
       "<p>103 rows × 4 columns</p>\n",
       "</div>"
      ],
      "text/plain": [
       "     index Postal Code           Borough  \\\n",
       "0        2         M3A        North York   \n",
       "1        3         M4A        North York   \n",
       "2        4         M5A  Downtown Toronto   \n",
       "3        5         M6A        North York   \n",
       "4        6         M7A  Downtown Toronto   \n",
       "..     ...         ...               ...   \n",
       "98     160         M8X         Etobicoke   \n",
       "99     165         M4Y  Downtown Toronto   \n",
       "100    168         M7Y      East Toronto   \n",
       "101    169         M8Y         Etobicoke   \n",
       "102    178         M8Z         Etobicoke   \n",
       "\n",
       "                                         Neighbourhood  \n",
       "0                                            Parkwoods  \n",
       "1                                     Victoria Village  \n",
       "2                            Regent Park, Harbourfront  \n",
       "3                     Lawrence Manor, Lawrence Heights  \n",
       "4          Queen's Park, Ontario Provincial Government  \n",
       "..                                                 ...  \n",
       "98       The Kingsway, Montgomery Road, Old Mill North  \n",
       "99                                Church and Wellesley  \n",
       "100  Business reply mail Processing Centre, South C...  \n",
       "101  Old Mill South, King's Mill Park, Sunnylea, Hu...  \n",
       "102  Mimico NW, The Queensway West, South of Bloor,...  \n",
       "\n",
       "[103 rows x 4 columns]"
      ]
     },
     "execution_count": 10,
     "metadata": {},
     "output_type": "execute_result"
    }
   ],
   "source": [
    "df = df.reset_index()\n",
    "df"
   ]
  },
  {
   "cell_type": "code",
   "execution_count": 11,
   "metadata": {},
   "outputs": [
    {
     "data": {
      "text/html": [
       "<div>\n",
       "<style scoped>\n",
       "    .dataframe tbody tr th:only-of-type {\n",
       "        vertical-align: middle;\n",
       "    }\n",
       "\n",
       "    .dataframe tbody tr th {\n",
       "        vertical-align: top;\n",
       "    }\n",
       "\n",
       "    .dataframe thead th {\n",
       "        text-align: right;\n",
       "    }\n",
       "</style>\n",
       "<table border=\"1\" class=\"dataframe\">\n",
       "  <thead>\n",
       "    <tr style=\"text-align: right;\">\n",
       "      <th></th>\n",
       "      <th>Postal Code</th>\n",
       "      <th>Borough</th>\n",
       "      <th>Neighbourhood</th>\n",
       "    </tr>\n",
       "  </thead>\n",
       "  <tbody>\n",
       "    <tr>\n",
       "      <th>0</th>\n",
       "      <td>M3A</td>\n",
       "      <td>North York</td>\n",
       "      <td>Parkwoods</td>\n",
       "    </tr>\n",
       "    <tr>\n",
       "      <th>1</th>\n",
       "      <td>M4A</td>\n",
       "      <td>North York</td>\n",
       "      <td>Victoria Village</td>\n",
       "    </tr>\n",
       "    <tr>\n",
       "      <th>2</th>\n",
       "      <td>M5A</td>\n",
       "      <td>Downtown Toronto</td>\n",
       "      <td>Regent Park, Harbourfront</td>\n",
       "    </tr>\n",
       "    <tr>\n",
       "      <th>3</th>\n",
       "      <td>M6A</td>\n",
       "      <td>North York</td>\n",
       "      <td>Lawrence Manor, Lawrence Heights</td>\n",
       "    </tr>\n",
       "    <tr>\n",
       "      <th>4</th>\n",
       "      <td>M7A</td>\n",
       "      <td>Downtown Toronto</td>\n",
       "      <td>Queen's Park, Ontario Provincial Government</td>\n",
       "    </tr>\n",
       "    <tr>\n",
       "      <th>...</th>\n",
       "      <td>...</td>\n",
       "      <td>...</td>\n",
       "      <td>...</td>\n",
       "    </tr>\n",
       "    <tr>\n",
       "      <th>98</th>\n",
       "      <td>M8X</td>\n",
       "      <td>Etobicoke</td>\n",
       "      <td>The Kingsway, Montgomery Road, Old Mill North</td>\n",
       "    </tr>\n",
       "    <tr>\n",
       "      <th>99</th>\n",
       "      <td>M4Y</td>\n",
       "      <td>Downtown Toronto</td>\n",
       "      <td>Church and Wellesley</td>\n",
       "    </tr>\n",
       "    <tr>\n",
       "      <th>100</th>\n",
       "      <td>M7Y</td>\n",
       "      <td>East Toronto</td>\n",
       "      <td>Business reply mail Processing Centre, South C...</td>\n",
       "    </tr>\n",
       "    <tr>\n",
       "      <th>101</th>\n",
       "      <td>M8Y</td>\n",
       "      <td>Etobicoke</td>\n",
       "      <td>Old Mill South, King's Mill Park, Sunnylea, Hu...</td>\n",
       "    </tr>\n",
       "    <tr>\n",
       "      <th>102</th>\n",
       "      <td>M8Z</td>\n",
       "      <td>Etobicoke</td>\n",
       "      <td>Mimico NW, The Queensway West, South of Bloor,...</td>\n",
       "    </tr>\n",
       "  </tbody>\n",
       "</table>\n",
       "<p>103 rows × 3 columns</p>\n",
       "</div>"
      ],
      "text/plain": [
       "    Postal Code           Borough  \\\n",
       "0           M3A        North York   \n",
       "1           M4A        North York   \n",
       "2           M5A  Downtown Toronto   \n",
       "3           M6A        North York   \n",
       "4           M7A  Downtown Toronto   \n",
       "..          ...               ...   \n",
       "98          M8X         Etobicoke   \n",
       "99          M4Y  Downtown Toronto   \n",
       "100         M7Y      East Toronto   \n",
       "101         M8Y         Etobicoke   \n",
       "102         M8Z         Etobicoke   \n",
       "\n",
       "                                         Neighbourhood  \n",
       "0                                            Parkwoods  \n",
       "1                                     Victoria Village  \n",
       "2                            Regent Park, Harbourfront  \n",
       "3                     Lawrence Manor, Lawrence Heights  \n",
       "4          Queen's Park, Ontario Provincial Government  \n",
       "..                                                 ...  \n",
       "98       The Kingsway, Montgomery Road, Old Mill North  \n",
       "99                                Church and Wellesley  \n",
       "100  Business reply mail Processing Centre, South C...  \n",
       "101  Old Mill South, King's Mill Park, Sunnylea, Hu...  \n",
       "102  Mimico NW, The Queensway West, South of Bloor,...  \n",
       "\n",
       "[103 rows x 3 columns]"
      ]
     },
     "execution_count": 11,
     "metadata": {},
     "output_type": "execute_result"
    }
   ],
   "source": [
    "df.drop(['index'], axis = 'columns', inplace = True)\n",
    "df"
   ]
  },
  {
   "cell_type": "code",
   "execution_count": 12,
   "metadata": {},
   "outputs": [
    {
     "data": {
      "text/plain": [
       "(103, 3)"
      ]
     },
     "execution_count": 12,
     "metadata": {},
     "output_type": "execute_result"
    }
   ],
   "source": [
    "df.shape"
   ]
  },
  {
   "cell_type": "markdown",
   "metadata": {},
   "source": [
    "# Question 2\n",
    "Installing geocoder"
   ]
  },
  {
   "cell_type": "code",
   "execution_count": 13,
   "metadata": {},
   "outputs": [],
   "source": [
    "import geocoder"
   ]
  },
  {
   "cell_type": "code",
   "execution_count": 15,
   "metadata": {},
   "outputs": [
    {
     "data": {
      "text/html": [
       "<div>\n",
       "<style scoped>\n",
       "    .dataframe tbody tr th:only-of-type {\n",
       "        vertical-align: middle;\n",
       "    }\n",
       "\n",
       "    .dataframe tbody tr th {\n",
       "        vertical-align: top;\n",
       "    }\n",
       "\n",
       "    .dataframe thead th {\n",
       "        text-align: right;\n",
       "    }\n",
       "</style>\n",
       "<table border=\"1\" class=\"dataframe\">\n",
       "  <thead>\n",
       "    <tr style=\"text-align: right;\">\n",
       "      <th></th>\n",
       "      <th>Postal Code</th>\n",
       "      <th>Latitude</th>\n",
       "      <th>Longitude</th>\n",
       "    </tr>\n",
       "  </thead>\n",
       "  <tbody>\n",
       "    <tr>\n",
       "      <th>0</th>\n",
       "      <td>M1B</td>\n",
       "      <td>43.806686</td>\n",
       "      <td>-79.194353</td>\n",
       "    </tr>\n",
       "    <tr>\n",
       "      <th>1</th>\n",
       "      <td>M1C</td>\n",
       "      <td>43.784535</td>\n",
       "      <td>-79.160497</td>\n",
       "    </tr>\n",
       "    <tr>\n",
       "      <th>2</th>\n",
       "      <td>M1E</td>\n",
       "      <td>43.763573</td>\n",
       "      <td>-79.188711</td>\n",
       "    </tr>\n",
       "    <tr>\n",
       "      <th>3</th>\n",
       "      <td>M1G</td>\n",
       "      <td>43.770992</td>\n",
       "      <td>-79.216917</td>\n",
       "    </tr>\n",
       "    <tr>\n",
       "      <th>4</th>\n",
       "      <td>M1H</td>\n",
       "      <td>43.773136</td>\n",
       "      <td>-79.239476</td>\n",
       "    </tr>\n",
       "  </tbody>\n",
       "</table>\n",
       "</div>"
      ],
      "text/plain": [
       "  Postal Code   Latitude  Longitude\n",
       "0         M1B  43.806686 -79.194353\n",
       "1         M1C  43.784535 -79.160497\n",
       "2         M1E  43.763573 -79.188711\n",
       "3         M1G  43.770992 -79.216917\n",
       "4         M1H  43.773136 -79.239476"
      ]
     },
     "execution_count": 15,
     "metadata": {},
     "output_type": "execute_result"
    }
   ],
   "source": [
    "data = pd.read_csv(\"https://cocl.us/Geospatial_data\")\n",
    "data.head()"
   ]
  },
  {
   "cell_type": "code",
   "execution_count": 16,
   "metadata": {},
   "outputs": [
    {
     "name": "stdout",
     "output_type": "stream",
     "text": [
      "The shape of our wiki data is:  (103, 3)\n",
      "the shape of our csv data is:  (103, 3)\n"
     ]
    }
   ],
   "source": [
    "print(\"The shape of our wiki data is: \", df.shape)\n",
    "print(\"the shape of our csv data is: \", data.shape)"
   ]
  },
  {
   "cell_type": "code",
   "execution_count": 17,
   "metadata": {},
   "outputs": [
    {
     "data": {
      "text/plain": [
       "Postal Code      object\n",
       "Borough          object\n",
       "Neighbourhood    object\n",
       "dtype: object"
      ]
     },
     "execution_count": 17,
     "metadata": {},
     "output_type": "execute_result"
    }
   ],
   "source": [
    "df.dtypes"
   ]
  },
  {
   "cell_type": "code",
   "execution_count": 18,
   "metadata": {},
   "outputs": [
    {
     "data": {
      "text/plain": [
       "Postal Code     object\n",
       "Latitude       float64\n",
       "Longitude      float64\n",
       "dtype: object"
      ]
     },
     "execution_count": 18,
     "metadata": {},
     "output_type": "execute_result"
    }
   ],
   "source": [
    "data.dtypes"
   ]
  },
  {
   "cell_type": "code",
   "execution_count": 20,
   "metadata": {},
   "outputs": [
    {
     "data": {
      "text/html": [
       "<div>\n",
       "<style scoped>\n",
       "    .dataframe tbody tr th:only-of-type {\n",
       "        vertical-align: middle;\n",
       "    }\n",
       "\n",
       "    .dataframe tbody tr th {\n",
       "        vertical-align: top;\n",
       "    }\n",
       "\n",
       "    .dataframe thead th {\n",
       "        text-align: right;\n",
       "    }\n",
       "</style>\n",
       "<table border=\"1\" class=\"dataframe\">\n",
       "  <thead>\n",
       "    <tr style=\"text-align: right;\">\n",
       "      <th></th>\n",
       "      <th>Postal Code</th>\n",
       "      <th>Borough</th>\n",
       "      <th>Neighbourhood</th>\n",
       "      <th>Latitude</th>\n",
       "      <th>Longitude</th>\n",
       "    </tr>\n",
       "  </thead>\n",
       "  <tbody>\n",
       "    <tr>\n",
       "      <th>0</th>\n",
       "      <td>M3A</td>\n",
       "      <td>North York</td>\n",
       "      <td>Parkwoods</td>\n",
       "      <td>43.753259</td>\n",
       "      <td>-79.329656</td>\n",
       "    </tr>\n",
       "    <tr>\n",
       "      <th>1</th>\n",
       "      <td>M4A</td>\n",
       "      <td>North York</td>\n",
       "      <td>Victoria Village</td>\n",
       "      <td>43.725882</td>\n",
       "      <td>-79.315572</td>\n",
       "    </tr>\n",
       "    <tr>\n",
       "      <th>2</th>\n",
       "      <td>M5A</td>\n",
       "      <td>Downtown Toronto</td>\n",
       "      <td>Regent Park, Harbourfront</td>\n",
       "      <td>43.654260</td>\n",
       "      <td>-79.360636</td>\n",
       "    </tr>\n",
       "    <tr>\n",
       "      <th>3</th>\n",
       "      <td>M6A</td>\n",
       "      <td>North York</td>\n",
       "      <td>Lawrence Manor, Lawrence Heights</td>\n",
       "      <td>43.718518</td>\n",
       "      <td>-79.464763</td>\n",
       "    </tr>\n",
       "    <tr>\n",
       "      <th>4</th>\n",
       "      <td>M7A</td>\n",
       "      <td>Downtown Toronto</td>\n",
       "      <td>Queen's Park, Ontario Provincial Government</td>\n",
       "      <td>43.662301</td>\n",
       "      <td>-79.389494</td>\n",
       "    </tr>\n",
       "  </tbody>\n",
       "</table>\n",
       "</div>"
      ],
      "text/plain": [
       "  Postal Code           Borough                                Neighbourhood  \\\n",
       "0         M3A        North York                                    Parkwoods   \n",
       "1         M4A        North York                             Victoria Village   \n",
       "2         M5A  Downtown Toronto                    Regent Park, Harbourfront   \n",
       "3         M6A        North York             Lawrence Manor, Lawrence Heights   \n",
       "4         M7A  Downtown Toronto  Queen's Park, Ontario Provincial Government   \n",
       "\n",
       "    Latitude  Longitude  \n",
       "0  43.753259 -79.329656  \n",
       "1  43.725882 -79.315572  \n",
       "2  43.654260 -79.360636  \n",
       "3  43.718518 -79.464763  \n",
       "4  43.662301 -79.389494  "
      ]
     },
     "execution_count": 20,
     "metadata": {},
     "output_type": "execute_result"
    }
   ],
   "source": [
    "combined_data = df.join(data.set_index('Postal Code'), on='Postal Code', how='inner')\n",
    "combined_data.head()"
   ]
  },
  {
   "cell_type": "code",
   "execution_count": 21,
   "metadata": {},
   "outputs": [
    {
     "data": {
      "text/plain": [
       "(103, 5)"
      ]
     },
     "execution_count": 21,
     "metadata": {},
     "output_type": "execute_result"
    }
   ],
   "source": [
    "combined_data.shape"
   ]
  },
  {
   "cell_type": "markdown",
   "metadata": {},
   "source": [
    "## Question 3\n",
    "Drawing inspiration from the previous lab where we cluster the neighbourhood of NYC, We cluster Toronto based on the similarities of the venues categories using Kmeans clustering and Foursquare API."
   ]
  },
  {
   "cell_type": "code",
   "execution_count": 23,
   "metadata": {},
   "outputs": [],
   "source": [
    "from geopy.geocoders import Nominatim"
   ]
  },
  {
   "cell_type": "code",
   "execution_count": 24,
   "metadata": {},
   "outputs": [
    {
     "name": "stdout",
     "output_type": "stream",
     "text": [
      "The coordinates of Toronto are 43.6534817, -79.3839347.\n"
     ]
    }
   ],
   "source": [
    "address = 'Toronto, Ontario'\n",
    "\n",
    "geolocator = Nominatim(user_agent=\"toronto_explorer\")\n",
    "location = geolocator.geocode(address)\n",
    "latitude = location.latitude\n",
    "longitude = location.longitude\n",
    "print('The coordinates of Toronto are {}, {}.'.format(latitude, longitude))"
   ]
  },
  {
   "cell_type": "code",
   "execution_count": 26,
   "metadata": {},
   "outputs": [],
   "source": [
    "import folium"
   ]
  },
  {
   "cell_type": "code",
   "execution_count": 27,
   "metadata": {},
   "outputs": [
    {
     "data": {
      "text/html": [
       "<div style=\"width:100%;\"><div style=\"position:relative;width:100%;height:0;padding-bottom:60%;\"><span style=\"color:#565656\">Make this Notebook Trusted to load map: File -> Trust Notebook</span><iframe src=\"about:blank\" style=\"position:absolute;width:100%;height:100%;left:0;top:0;border:none !important;\" data-html=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 onload=\"this.contentDocument.open();this.contentDocument.write(atob(this.getAttribute('data-html')));this.contentDocument.close();\" allowfullscreen webkitallowfullscreen mozallowfullscreen></iframe></div></div>"
      ],
      "text/plain": [
       "<folium.folium.Map at 0x80ca5b0>"
      ]
     },
     "execution_count": 27,
     "metadata": {},
     "output_type": "execute_result"
    }
   ],
   "source": [
    "# Creating the map of Toronto\n",
    "map_Toronto = folium.Map(location=[latitude, longitude], zoom_start=11)\n",
    "\n",
    "# adding markers to map\n",
    "for latitude, longitude, borough, neighbourhood in zip(combined_data['Latitude'], combined_data['Longitude'], combined_data['Borough'], combined_data['Neighbourhood']):\n",
    "    label = '{}, {}'.format(neighbourhood, borough)\n",
    "    label = folium.Popup(label, parse_html=True)\n",
    "    folium.CircleMarker(\n",
    "        [latitude, longitude],\n",
    "        radius=5,\n",
    "        popup=label,\n",
    "        color='red',\n",
    "        fill=True\n",
    "        ).add_to(map_Toronto)  \n",
    "    \n",
    "map_Toronto"
   ]
  },
  {
   "cell_type": "code",
   "execution_count": 28,
   "metadata": {},
   "outputs": [
    {
     "name": "stdout",
     "output_type": "stream",
     "text": [
      "Your credentails:\n",
      "CLIENT_ID: LDIJF4KI5VGMMA3NNDLFZWHR12TCMNTUL0TUC3QPZ3SJD040\n",
      "CLIENT_SECRET:EOOOZ3EF5N0FOMNUJVTDV0SXVUVVEBMWPFXMNBK1R5K4H55A\n"
     ]
    }
   ],
   "source": [
    "CLIENT_ID = 'LDIJF4KI5VGMMA3NNDLFZWHR12TCMNTUL0TUC3QPZ3SJD040' \n",
    "CLIENT_SECRET = 'EOOOZ3EF5N0FOMNUJVTDV0SXVUVVEBMWPFXMNBK1R5K4H55A'\n",
    "VERSION = '20180605' # Foursquare API version\n",
    "\n",
    "print('Your credentails:')\n",
    "print('CLIENT_ID: ' + CLIENT_ID)\n",
    "print('CLIENT_SECRET:' + CLIENT_SECRET)"
   ]
  },
  {
   "cell_type": "code",
   "execution_count": 42,
   "metadata": {},
   "outputs": [],
   "source": [
    "def getNearbyVenues(names, latitudes, longitudes, radius=500):\n",
    "    \n",
    "    venues_list=[]\n",
    "    for name, lat, lng in zip(names, latitudes, longitudes):\n",
    "        print(name)\n",
    "            \n",
    "        # create the API request URL\n",
    "        url = 'https://api.foursquare.com/v2/venues/explore?&client_id={}&client_secret={}&v={}&ll={},{}&radius={}'.format(\n",
    "            CLIENT_ID, \n",
    "            CLIENT_SECRET, \n",
    "            VERSION, \n",
    "            lat, \n",
    "            lng, \n",
    "            radius\n",
    "            )\n",
    "            \n",
    "        # make the GET request\n",
    "        results = requests.get(url).json()[\"response\"]['meta'][0]['items']\n",
    "        \n",
    "        # return only relevant information for each nearby venue\n",
    "        venues_list.append([(\n",
    "            name, \n",
    "            lat, \n",
    "            lng, \n",
    "            v['venue']['name'], \n",
    "            v['venue']['categories'][0]['name']) for v in results])\n",
    "\n",
    "    nearby_venues = pd.DataFrame([item for venue_list in venues_list for item in venue_list])\n",
    "    nearby_venues.columns = ['Neighbourhood', \n",
    "                  'Neighbourhood Latitude', \n",
    "                  'Neighbourhood Longitude', \n",
    "                  'Venue', \n",
    "                  'Venue Category']\n",
    "    \n",
    "    return(nearby_venues)"
   ]
  }
 ],
 "metadata": {
  "@webio": {
   "lastCommId": null,
   "lastKernelId": null
  },
  "kernelspec": {
   "display_name": "Python 3",
   "language": "python",
   "name": "python3"
  },
  "language_info": {
   "codemirror_mode": {
    "name": "ipython",
    "version": 3
   },
   "file_extension": ".py",
   "mimetype": "text/x-python",
   "name": "python",
   "nbconvert_exporter": "python",
   "pygments_lexer": "ipython3",
   "version": "3.8.5"
  }
 },
 "nbformat": 4,
 "nbformat_minor": 4
}
